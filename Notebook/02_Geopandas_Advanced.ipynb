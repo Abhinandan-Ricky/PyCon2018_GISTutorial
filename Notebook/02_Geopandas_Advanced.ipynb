{
 "cells": [
  {
   "cell_type": "markdown",
   "metadata": {},
   "source": [
    "# Spatial Problem: In what cities will we be able to see upcoming solar eclipses?"
   ]
  },
  {
   "cell_type": "markdown",
   "metadata": {},
   "source": [
    "An eclipse of the sun, or solar eclipse, happens when the moon moves between the sun and Earth. When this happens, the moon blocks the light of the sun from reaching Earth. There was a widely publicized solar eclipse that passed over the contiguous United States in 2017. Let's re-live the excitment by finding out where we can see solar eclipses in the future, using Python!"
   ]
  },
  {
   "cell_type": "markdown",
   "metadata": {},
   "source": [
    "First we need to import our libraries"
   ]
  },
  {
   "cell_type": "code",
   "execution_count": null,
   "metadata": {},
   "outputs": [],
   "source": [
    "%matplotlib inline\n",
    "\n",
    "import matplotlib.pyplot as plt\n",
    "\n",
    "import pandas as pd\n",
    "import geopandas as gpd\n",
    "#from geopandas import GeoSeries, GeoDataFrame\n",
    "\n",
    "# new imports \n",
    "import os\n",
    "data_pth = \"../Data/\""
   ]
  },
  {
   "cell_type": "markdown",
   "metadata": {},
   "source": [
    "Now to use some of our own data!"
   ]
  },
  {
   "cell_type": "code",
   "execution_count": null,
   "metadata": {},
   "outputs": [],
   "source": [
    "# Look in your Data directory to see this shapefile\n",
    "eclipses = gpd.read_file(os.path.join(data_pth, \"Eclipses.shp\"))"
   ]
  },
  {
   "cell_type": "code",
   "execution_count": null,
   "metadata": {},
   "outputs": [],
   "source": [
    "# Let's see what we've got in tabular format\n",
    "eclipses.head()"
   ]
  },
  {
   "cell_type": "code",
   "execution_count": null,
   "metadata": {},
   "outputs": [],
   "source": [
    "# Another way to view tabular data is to transpose rows and columns\n",
    "eclipses.head().T"
   ]
  },
  {
   "cell_type": "code",
   "execution_count": null,
   "metadata": {},
   "outputs": [],
   "source": [
    "# Check the coordinate reference system of our data, its crs\n",
    "eclipses.crs"
   ]
  },
  {
   "cell_type": "code",
   "execution_count": null,
   "metadata": {},
   "outputs": [],
   "source": [
    "# Now we plot. Note that for simplicity and asthetics some eclipses were removed\n",
    "# from the dataset or clipped if they crossed the International Date Line\n",
    "eclipses.plot()"
   ]
  },
  {
   "cell_type": "code",
   "execution_count": null,
   "metadata": {},
   "outputs": [],
   "source": [
    "# Examine what the envelope of our data looks like. This comes in handy sometimes when you want to simplify\n",
    "# your data, or if you want to zoom to a certain object's extent\n",
    "eclipses.envelope.plot()"
   ]
  },
  {
   "cell_type": "code",
   "execution_count": null,
   "metadata": {},
   "outputs": [],
   "source": [
    "# We can examine number of shapes/records for each year\n",
    "eclipses['Year'].value_counts()"
   ]
  },
  {
   "cell_type": "code",
   "execution_count": null,
   "metadata": {},
   "outputs": [],
   "source": [
    "# Where exactly are these paths? Let's add our basemap to make this clear.\n",
    "world = gpd.read_file(gpd.datasets.get_path('naturalearth_lowres'))\n",
    "base = world.plot(color='lightgrey', linewidth=0.5, edgecolor='white', figsize=(15,5))\n",
    "# Pass ax=base to the second layer\n",
    "eclipses.plot(ax=base)\n",
    "# There is an axis by default. You can see it if you comment out the below.\n",
    "base.set_axis_off()"
   ]
  },
  {
   "cell_type": "code",
   "execution_count": null,
   "metadata": {},
   "outputs": [],
   "source": [
    "# Let's load in the cities provided by geopandas. Note these are just the capitals.\n",
    "cities = gpd.read_file(gpd.datasets.get_path('naturalearth_cities'))"
   ]
  },
  {
   "cell_type": "code",
   "execution_count": null,
   "metadata": {},
   "outputs": [],
   "source": [
    "# Now we'll plot our basemap, our eclipse paths, and our cities\n",
    "base = world.plot(color='lightgrey', linewidth=0.5, edgecolor='white', figsize=(15,5))\n",
    "eclipses.plot(ax=base)\n",
    "cities.plot(marker='*', color='yellow', markersize=5, ax=base)\n",
    "base.axis('off')"
   ]
  },
  {
   "cell_type": "code",
   "execution_count": null,
   "metadata": {},
   "outputs": [],
   "source": [
    "# But we want MORE cities, so let's use our own. This is a local shapefile in your data directory.\n",
    "cities = gpd.read_file(os.path.join(data_pth, \"ne_10m_populated_places.shp\"))"
   ]
  },
  {
   "cell_type": "code",
   "execution_count": null,
   "metadata": {},
   "outputs": [],
   "source": [
    "cities.head()"
   ]
  },
  {
   "cell_type": "code",
   "execution_count": null,
   "metadata": {},
   "outputs": [],
   "source": [
    "# Check the crs of our new cities data\n",
    "cities.crs"
   ]
  },
  {
   "cell_type": "code",
   "execution_count": null,
   "metadata": {},
   "outputs": [],
   "source": [
    "# Is the cities data still in the same crs as the eclipse data? Let's check.\n",
    "eclipses.crs == cities.crs"
   ]
  },
  {
   "cell_type": "code",
   "execution_count": null,
   "metadata": {},
   "outputs": [],
   "source": [
    "# Great. Let's plot it all again\n",
    "base = world.plot(color='lightgrey', linewidth=0.5, edgecolor='white', figsize=(15,5))\n",
    "eclipses.plot(ax=base)\n",
    "cities.plot(marker='*', color='yellow', markersize=5, ax=base)\n",
    "base.axis('off')"
   ]
  },
  {
   "cell_type": "code",
   "execution_count": null,
   "metadata": {},
   "outputs": [],
   "source": [
    "# Let's change our eclipse colors and transparency\n",
    "base = world.plot(color='lightgrey', linewidth=0.5, edgecolor='white', figsize=(15,5))\n",
    "eclipses.plot(ax=base, cmap='tab10', alpha=0.5)\n",
    "cities.plot(marker='*', color='yellow', markersize=5, ax=base)\n",
    "base.axis('off')"
   ]
  },
  {
   "cell_type": "code",
   "execution_count": null,
   "metadata": {},
   "outputs": [],
   "source": [
    "# We can examine the years that we have data for\n",
    "eclipses['Year']"
   ]
  },
  {
   "cell_type": "code",
   "execution_count": null,
   "metadata": {},
   "outputs": [],
   "source": [
    "# But how do we know which is which?\n",
    "base = world.plot(color='lightgrey', linewidth=0.5, edgecolor='white', figsize=(15,5))\n",
    "\n",
    "# We can add a catetorical value and set the column to Year. We can also add a legend.\n",
    "eclipses.plot(ax=base, cmap='tab10', categorical=True, alpha=0.5, column = \"Year\", legend=True)\n",
    "base.axis('off')"
   ]
  },
  {
   "cell_type": "code",
   "execution_count": null,
   "metadata": {},
   "outputs": [],
   "source": [
    "# Let's get that legend out of the way.\n",
    "base.get_legend().set_bbox_to_anchor((.05,.7))\n",
    "base.get_figure()"
   ]
  },
  {
   "cell_type": "markdown",
   "metadata": {},
   "source": [
    "## Which eclipses will cover the largest population?"
   ]
  },
  {
   "cell_type": "markdown",
   "metadata": {},
   "source": [
    "Instead of coloring the eclipses by year, we want to color based on the number of people that ought to be able to see them"
   ]
  },
  {
   "cell_type": "code",
   "execution_count": null,
   "metadata": {},
   "outputs": [],
   "source": [
    "# Start by getting all the cities that intersect any eclipse\n",
    "allecities = gpd.sjoin(cities, eclipses, how='inner', op='intersects')\n",
    "allecities.head().T"
   ]
  },
  {
   "cell_type": "code",
   "execution_count": null,
   "metadata": {},
   "outputs": [],
   "source": [
    "allecities = pd.DataFrame(allecities[['POP_MAX', 'Year']])"
   ]
  },
  {
   "cell_type": "code",
   "execution_count": null,
   "metadata": {},
   "outputs": [],
   "source": [
    "allecities.head()"
   ]
  },
  {
   "cell_type": "code",
   "execution_count": null,
   "metadata": {},
   "outputs": [],
   "source": [
    "# Create a temporary variable to hold our years and populations\n",
    "g = allecities.groupby(['Year'])[[\"POP_MAX\"]].sum()"
   ]
  },
  {
   "cell_type": "code",
   "execution_count": null,
   "metadata": {},
   "outputs": [],
   "source": [
    "g"
   ]
  },
  {
   "cell_type": "code",
   "execution_count": null,
   "metadata": {},
   "outputs": [],
   "source": [
    "eclipses_pop = pd.merge(eclipses, g, left_on='Year', right_index=True)"
   ]
  },
  {
   "cell_type": "code",
   "execution_count": null,
   "metadata": {},
   "outputs": [],
   "source": [
    "eclipses_pop.head().T"
   ]
  },
  {
   "cell_type": "code",
   "execution_count": null,
   "metadata": {},
   "outputs": [],
   "source": [
    "base = world.plot(color='lightgrey', linewidth=0.5, edgecolor='white', figsize=(15,5))\n",
    "eclipses_pop.plot(ax=base, cmap='Oranges', categorical=True, alpha=0.5, column = \"POP_MAX\", legend=True)\n",
    "base.axis('off')"
   ]
  },
  {
   "cell_type": "code",
   "execution_count": null,
   "metadata": {},
   "outputs": [],
   "source": [
    "g.sort_values('POP_MAX', ascending = False)"
   ]
  },
  {
   "cell_type": "markdown",
   "metadata": {},
   "source": [
    "## Are any eclipses passing over Cleveland?"
   ]
  },
  {
   "cell_type": "markdown",
   "metadata": {},
   "source": [
    "We can find out by intersecting the cities with the eclipse paths, then seeing if Cleveland is in the result!"
   ]
  },
  {
   "cell_type": "code",
   "execution_count": null,
   "metadata": {},
   "outputs": [],
   "source": [
    "# Let's create a variable to just hold the Cleveland city point\n",
    "mycity = cities.loc[cities['NAME'] == 'Cleveland']"
   ]
  },
  {
   "cell_type": "code",
   "execution_count": null,
   "metadata": {},
   "outputs": [],
   "source": [
    "# Now we can use sjoin and intersects to find out of Cleveland intersects any eclipse paths\n",
    "emycity = gpd.sjoin(mycity, eclipses, how='inner', op='intersects')"
   ]
  },
  {
   "cell_type": "code",
   "execution_count": null,
   "metadata": {},
   "outputs": [],
   "source": [
    "def eresult(city, eclipse):\n",
    "    if len(city) > 0:\n",
    "        return '{} eclipse(s) will pass through {}. Year(s): {}'.format(len(eclipse), list(city['NAME'])[0], [y for y in eclipse['Year']])\n",
    "    else:\n",
    "        return 'No eclipses passing through {}'.format(list(city['NAME'])[0])"
   ]
  },
  {
   "cell_type": "code",
   "execution_count": null,
   "metadata": {},
   "outputs": [],
   "source": [
    "eresult(mycity, emycity)"
   ]
  },
  {
   "cell_type": "code",
   "execution_count": null,
   "metadata": {},
   "outputs": [],
   "source": [
    "# There is one! Let's assign that eclipse to a variable.\n",
    "# This will only work if there is a 1:1 city:eclipse, hence the if/else. This will help if you want to try another city.\n",
    "if len(emycity) > 1:\n",
    "    print('What luck! This city has more than one eclipse! But a city that has just has one.')\n",
    "elif len(emycity) == 1:\n",
    "    emycity = eclipses.loc[eclipses['Year'] == int(emycity['Year'])]\n",
    "else:\n",
    "    print('There are no eclipses in your city')"
   ]
  },
  {
   "cell_type": "code",
   "execution_count": null,
   "metadata": {},
   "outputs": [],
   "source": [
    "# Plot it!\n",
    "base = world.plot(color='lightgray', linewidth=0.5, edgecolor='white', figsize=(15,5))\n",
    "if len(emycity) > 0:\n",
    "    emycity.plot(ax=base, color='black', edgecolor='yellow', alpha=0.5, legend=True)\n",
    "    bounds = emycity.geometry.bounds\n",
    "mycity.plot(marker='*', color='red', markersize=500, ax=base)\n",
    "\n",
    "# Zoom to the bounds of the eclipse by setting the bounds to the min/max x/y of your layer\n",
    "plt.xlim([bounds.minx.min()-5, bounds.maxx.max()+5])\n",
    "plt.ylim([bounds.miny.min()-5, bounds.maxy.max()+5])"
   ]
  },
  {
   "cell_type": "markdown",
   "metadata": {},
   "source": [
    "Are there any eclipses passing over your city?"
   ]
  },
  {
   "cell_type": "markdown",
   "metadata": {},
   "source": [
    "## Which Eclipse Do You Want to Map?"
   ]
  },
  {
   "cell_type": "code",
   "execution_count": null,
   "metadata": {},
   "outputs": [],
   "source": [
    "# Let's look at our options again\n",
    "eclipses['Year']"
   ]
  },
  {
   "cell_type": "code",
   "execution_count": null,
   "metadata": {},
   "outputs": [],
   "source": [
    "# And plot again\n",
    "base = world.plot(color='lightgrey', linewidth=0.5, edgecolor='white', figsize=(15,5))\n",
    "eclipses.plot(ax=base, cmap='tab10', categorical=True, alpha=0.5, column = \"Year\", legend=True)\n",
    "base.axis('off')\n",
    "base.get_legend().set_bbox_to_anchor((.05,.7))"
   ]
  },
  {
   "cell_type": "code",
   "execution_count": null,
   "metadata": {},
   "outputs": [],
   "source": [
    "# I'll pick the one from 2017, it was on my birthday after all.\n",
    "myeclipse = eclipses[(eclipses['Year'] == 2017)]"
   ]
  },
  {
   "cell_type": "code",
   "execution_count": null,
   "metadata": {},
   "outputs": [],
   "source": [
    "# Let's plot it \n",
    "base = world.plot(color='lightgrey', linewidth=0.5, edgecolor='white', figsize=(15,5))\n",
    "myeclipse.plot(ax=base)\n",
    "cities.plot(marker='*', color='yellow', markersize=5, ax=base)\n",
    "base.axis('off')"
   ]
  },
  {
   "cell_type": "code",
   "execution_count": null,
   "metadata": {},
   "outputs": [],
   "source": [
    "# Plot again, but this time I want to zoom in on my chosen eclipse path\n",
    "base = world.plot(color='lightgrey', linewidth=0.5, edgecolor='white', figsize=(15,5))\n",
    "myeclipse.plot(ax=base)\n",
    "cities.plot(marker='*', color='yellow', markersize=5, ax=base)\n",
    "bounds = myeclipse.geometry.bounds\n",
    "plt.xlim([bounds.minx.min()-5, bounds.maxx.max()+5])\n",
    "plt.ylim([bounds.miny.min()-5, bounds.maxy.max()+5])"
   ]
  },
  {
   "cell_type": "code",
   "execution_count": null,
   "metadata": {},
   "outputs": [],
   "source": [
    "# Let's style the plot so that the eclipse looks eclipse-ier\n",
    "base = world.plot(color='lightgray', linewidth=0.5, edgecolor='white', figsize=(15,5))\n",
    "myeclipse.plot(ax=base, color='black', edgecolor='yellow', alpha=0.75)\n",
    "cities.plot(marker='o', color='white', markersize=2, ax=base)\n",
    "bounds = myeclipse.geometry.bounds\n",
    "plt.xlim([bounds.minx.min()-5, bounds.maxx.max()+5])\n",
    "plt.ylim([bounds.miny.min()-5, bounds.maxy.max()+5])"
   ]
  },
  {
   "cell_type": "code",
   "execution_count": null,
   "metadata": {},
   "outputs": [],
   "source": [
    "# Check that the crs are the same for myeclipse and cities\n",
    "print('data is in the same crs:', myeclipse.crs == cities.crs, ':', myeclipse.crs)"
   ]
  },
  {
   "cell_type": "code",
   "execution_count": null,
   "metadata": {},
   "outputs": [],
   "source": [
    "# We can see that there are a few cities that intersect my path! But we want to know which ones.\n",
    "# Do a spatial join to get the intersection\n",
    "# from geopandas.tools import sjoin\n",
    "ecities = gpd.sjoin(cities, myeclipse, how='inner', op='intersects')\n",
    "ecities.head()"
   ]
  },
  {
   "cell_type": "code",
   "execution_count": null,
   "metadata": {},
   "outputs": [],
   "source": [
    "# Let's plot the results!\n",
    "base = world.plot(color='lightgray', linewidth=0.5, edgecolor='white', figsize=(15,5))\n",
    "myeclipse.plot(ax=base, color='black', edgecolor='yellow', alpha=0.75)\n",
    "ecities.plot(marker='o', color='white', markersize=2, ax=base)\n",
    "bounds = myeclipse.geometry.bounds\n",
    "plt.xlim([bounds.minx.min()-5, bounds.maxx.max()+5])\n",
    "plt.ylim([bounds.miny.min()-5, bounds.maxy.max()+5])"
   ]
  },
  {
   "cell_type": "code",
   "execution_count": null,
   "metadata": {},
   "outputs": [],
   "source": [
    "print('Wow! There are {} cities in your path!'.format(len(ecities)))\n",
    "print()\n",
    "print(ecities['NAME'])"
   ]
  },
  {
   "cell_type": "markdown",
   "metadata": {},
   "source": [
    "# Make it slippy"
   ]
  },
  {
   "cell_type": "markdown",
   "metadata": {},
   "source": [
    "Now we want to put our data on a slippy map. But before we do, let's take a quick detour. (Note: refer back to slides for Tile exercises)"
   ]
  },
  {
   "cell_type": "code",
   "execution_count": null,
   "metadata": {},
   "outputs": [],
   "source": [
    "import folium"
   ]
  },
  {
   "cell_type": "code",
   "execution_count": null,
   "metadata": {},
   "outputs": [],
   "source": [
    "# Let's find the centroid of the eclipse we chose, so that we can center our folum map on it\n",
    "x = myeclipse.centroid.x.values[0]\n",
    "y = myeclipse.centroid.y.values[0]\n",
    "print('y: ' + str(y) + ', x: ' + str(x))\n",
    "\n",
    "# Note: results will vary depending on the eclipse you chose"
   ]
  },
  {
   "cell_type": "markdown",
   "metadata": {},
   "source": [
    "Let's choose a basemap! There are many options, [check them out](https://deparkes.co.uk/2016/06/10/folium-map-tiles/)."
   ]
  },
  {
   "cell_type": "code",
   "execution_count": null,
   "metadata": {},
   "outputs": [],
   "source": [
    "# Note: no matter what projection you were in before, the folium maps will be in Web Mercator\n",
    "map_osm = folium.Map(location=[y, x], zoom_start=3)\n",
    "map_osm"
   ]
  },
  {
   "cell_type": "code",
   "execution_count": null,
   "metadata": {},
   "outputs": [],
   "source": [
    "map_carto = folium.Map(\n",
    "    location=[y, x],\n",
    "    tiles='Cartodb Positron',\n",
    "    zoom_start=3\n",
    ")\n",
    "map_carto"
   ]
  },
  {
   "cell_type": "code",
   "execution_count": null,
   "metadata": {},
   "outputs": [],
   "source": [
    "map_stamen = folium.Map(\n",
    "    location=[y, x],\n",
    "    tiles='stamenwatercolor',\n",
    "    zoom_start=3\n",
    ")\n",
    "map_stamen"
   ]
  },
  {
   "cell_type": "code",
   "execution_count": null,
   "metadata": {},
   "outputs": [],
   "source": [
    "folium.GeoJson(ecities,name='Eclipse Cities').add_to(map_stamen)\n",
    "folium.GeoJson(myeclipse,name='Eclipse Path').add_to(map_stamen)\n",
    "\n",
    "# Add a layer control if you like\n",
    "folium.LayerControl().add_to(map_stamen)\n",
    "\n",
    "map_stamen"
   ]
  },
  {
   "cell_type": "code",
   "execution_count": null,
   "metadata": {},
   "outputs": [],
   "source": [
    "# You can write a function that creates a map with all of your properties\n",
    "# This one creates popups for your cities\n",
    "\n",
    "def plot_city_pop(ecities, myeclipse):\n",
    "    # generate a new map\n",
    "    folium_map = folium.Map(location=[y, x], zoom_start=3, tiles=\"CartoDB dark_matter\")\n",
    "    folium.GeoJson(myeclipse,name='Eclipse Path').add_to(folium_map)\n",
    "    # for each row in the data, add a cicle marker\n",
    "    for index, row in ecities.iterrows():\n",
    "        \n",
    "        # generate the popup message that is shown on click.\n",
    "        popup_text = \"Name: {}<br> Pop: {}\"\n",
    "        popup_text = popup_text.format(row[\"NAME\"], row[\"POP_MAX\"])\n",
    "        \n",
    "        folium.CircleMarker(location=(row['geometry'].y, row['geometry'].x),radius=5,popup=popup_text,fill=True).add_to(folium_map)        \n",
    "\n",
    "    # Add a layer control if you like\n",
    "    folium.LayerControl().add_to(folium_map)\n",
    "    \n",
    "    return folium_map"
   ]
  },
  {
   "cell_type": "code",
   "execution_count": null,
   "metadata": {},
   "outputs": [],
   "source": [
    "# Call the function to create the map\n",
    "plot_city_pop(ecities, myeclipse)"
   ]
  },
  {
   "cell_type": "code",
   "execution_count": null,
   "metadata": {},
   "outputs": [],
   "source": [
    "# Saving your results as a Esri Shapefile is easy with GeoPandas\n",
    "# myeclipse.to_file('../Data/myeclipse.shp', driver='ESRI Shapefile')\n",
    "# ecities.to_file('../Data/ecities.shp', driver='ESRI Shapefile')"
   ]
  },
  {
   "cell_type": "markdown",
   "metadata": {},
   "source": [
    "Your turn: Go Nuts!\n",
    "\n",
    "**Make your own map **\n",
    "* Choose a base map\n",
    "* Add any of the data we've worked with so far\n",
    "* Choose your own colors and styles\n",
    "* Add or change the popups\n",
    "* Use GeoPandas to answer any lingering questions about these eclipses, then plot it on your slippy map\n"
   ]
  },
  {
   "cell_type": "code",
   "execution_count": null,
   "metadata": {},
   "outputs": [],
   "source": [
    "m = folium.Map(location=[41.4993, -81.6944], zoom_start=7)\n",
    "m.choropleth(\n",
    "    geo_data=eclipses,\n",
    "    fill_color='Black',\n",
    "    fill_opacity=0.3,\n",
    "    line_weight=2,\n",
    ")\n",
    "\n",
    "m"
   ]
  },
  {
   "cell_type": "markdown",
   "metadata": {},
   "source": [
    "I hope you enjoyed this tutorial. Thank you!"
   ]
  }
 ],
 "metadata": {
  "kernelspec": {
   "display_name": "Python 3",
   "language": "python",
   "name": "python3"
  },
  "language_info": {
   "codemirror_mode": {
    "name": "ipython",
    "version": 3
   },
   "file_extension": ".py",
   "mimetype": "text/x-python",
   "name": "python",
   "nbconvert_exporter": "python",
   "pygments_lexer": "ipython3",
   "version": "3.6.5"
  }
 },
 "nbformat": 4,
 "nbformat_minor": 2
}
