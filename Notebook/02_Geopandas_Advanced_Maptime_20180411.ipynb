{
 "cells": [
  {
   "cell_type": "markdown",
   "metadata": {},
   "source": [
    "# Spatial Problem: In what cities will we be able to see upcoming eclipses?"
   ]
  },
  {
   "cell_type": "markdown",
   "metadata": {},
   "source": [
    "First we need to import our libraries"
   ]
  },
  {
   "cell_type": "code",
   "execution_count": null,
   "metadata": {},
   "outputs": [],
   "source": [
    "%matplotlib inline\n",
    "\n",
    "import matplotlib.pyplot as plt\n",
    "\n",
    "import pandas as pd\n",
    "import geopandas as gpd\n",
    "from geopandas import GeoSeries, GeoDataFrame\n",
    "\n",
    "# new imports \n",
    "import os\n",
    "data_pth = \"../Data/\""
   ]
  },
  {
   "cell_type": "markdown",
   "metadata": {},
   "source": [
    "Now to use some of our own data!"
   ]
  },
  {
   "cell_type": "code",
   "execution_count": null,
   "metadata": {},
   "outputs": [],
   "source": [
    "# Look in your Data directory to see this shapefile\n",
    "eclipses = gpd.read_file(os.path.join(data_pth, \"Eclipses.shp\"))"
   ]
  },
  {
   "cell_type": "code",
   "execution_count": null,
   "metadata": {},
   "outputs": [],
   "source": [
    "eclipses.head()"
   ]
  },
  {
   "cell_type": "code",
   "execution_count": null,
   "metadata": {},
   "outputs": [],
   "source": [
    "# view it differently by transposing rows and columns\n",
    "eclipses.head().T"
   ]
  },
  {
   "cell_type": "code",
   "execution_count": null,
   "metadata": {},
   "outputs": [],
   "source": [
    "# Check the coordinate reference system of our data, its crs\n",
    "eclipses.crs"
   ]
  },
  {
   "cell_type": "code",
   "execution_count": null,
   "metadata": {},
   "outputs": [],
   "source": [
    "# Now we plot\n",
    "eclipses.plot()"
   ]
  },
  {
   "cell_type": "code",
   "execution_count": null,
   "metadata": {},
   "outputs": [],
   "source": [
    "# Examine what the envelop of our data looks like\n",
    "eclipses.envelope.plot()"
   ]
  },
  {
   "cell_type": "code",
   "execution_count": null,
   "metadata": {},
   "outputs": [],
   "source": [
    "# Where exactly are these paths? Let's add our basemap to make this clear.\n",
    "world = gpd.read_file(gpd.datasets.get_path('naturalearth_lowres'))\n",
    "ax = world.plot(color='lightgrey', linewidth=0.5, edgecolor='white', figsize=(15,5))\n",
    "# Pass ax=ax to the second layer\n",
    "eclipses.plot(ax=ax)\n",
    "# There is an axis by default. You can see it if you comment out the below.\n",
    "ax.set_axis_off()"
   ]
  },
  {
   "cell_type": "code",
   "execution_count": null,
   "metadata": {},
   "outputs": [],
   "source": [
    "# Let's load in the cities provided by geopandas. Note these are just the capitals.\n",
    "cities = gpd.read_file(gpd.datasets.get_path('naturalearth_cities'))"
   ]
  },
  {
   "cell_type": "code",
   "execution_count": null,
   "metadata": {},
   "outputs": [],
   "source": [
    "# Now we'll plot our basemap, our eclipse paths, and our cities\n",
    "ax = world.plot(color='lightgrey', linewidth=0.5, edgecolor='white', figsize=(15,5))\n",
    "eclipses.plot(ax=ax)\n",
    "cities.plot(marker='*', color='yellow', markersize=5, ax=ax)\n",
    "ax.axis('off')"
   ]
  },
  {
   "cell_type": "code",
   "execution_count": null,
   "metadata": {},
   "outputs": [],
   "source": [
    "# But we want MORE cities, so let's use our own. This is a local shapefile in your data directory.\n",
    "cities = gpd.read_file(os.path.join(data_pth, \"ne_10m_populated_places.shp\"))"
   ]
  },
  {
   "cell_type": "code",
   "execution_count": null,
   "metadata": {},
   "outputs": [],
   "source": [
    "cities.head()"
   ]
  },
  {
   "cell_type": "code",
   "execution_count": null,
   "metadata": {},
   "outputs": [],
   "source": [
    "# Check the crs of our new cities data\n",
    "cities.crs"
   ]
  },
  {
   "cell_type": "code",
   "execution_count": null,
   "metadata": {},
   "outputs": [],
   "source": [
    "# Is the cities data still in the same crs as the eclipse data? Let's check.\n",
    "eclipses.crs == cities.crs"
   ]
  },
  {
   "cell_type": "code",
   "execution_count": null,
   "metadata": {},
   "outputs": [],
   "source": [
    "# Great. Let's plot it all again\n",
    "ax = world.plot(color='lightgrey', linewidth=0.5, edgecolor='white', figsize=(15,5))\n",
    "eclipses.plot(ax=ax)\n",
    "cities.plot(marker='*', color='yellow', markersize=5, ax=ax)\n",
    "ax.axis('off')"
   ]
  },
  {
   "cell_type": "code",
   "execution_count": null,
   "metadata": {},
   "outputs": [],
   "source": [
    "# Let's change our eclipse colors and transparency\n",
    "ax = world.plot(color='lightgrey', linewidth=0.5, edgecolor='white', figsize=(15,5))\n",
    "eclipses.plot(ax=ax, cmap='tab10', alpha=0.5)\n",
    "cities.plot(marker='*', color='yellow', markersize=5, ax=ax)\n",
    "ax.axis('off')"
   ]
  },
  {
   "cell_type": "code",
   "execution_count": null,
   "metadata": {},
   "outputs": [],
   "source": [
    "# We just want to focus on a single eclipse path for our analysis. We will select one by year.\n",
    "print(eclipses['Year'])"
   ]
  },
  {
   "cell_type": "code",
   "execution_count": null,
   "metadata": {},
   "outputs": [],
   "source": [
    "# But how do we know which is which?\n",
    "ax = world.plot(color='lightgrey', linewidth=0.5, edgecolor='white', figsize=(15,5))\n",
    "\n",
    "# We added categorical, column, and legend properties\n",
    "eclipses.plot(ax=ax, cmap='tab10', categorical=True, alpha=0.5, column = \"Year\", legend=True)\n",
    "ax.axis('off')"
   ]
  },
  {
   "cell_type": "markdown",
   "metadata": {},
   "source": [
    "Your turn #1: Select the eclipse that you want to focus on."
   ]
  },
  {
   "cell_type": "code",
   "execution_count": null,
   "metadata": {},
   "outputs": [],
   "source": [
    "# Your code here"
   ]
  },
  {
   "cell_type": "code",
   "execution_count": null,
   "metadata": {},
   "outputs": [],
   "source": [
    "# I'll pick the one from 2017, it was on my birthday afterall.\n",
    "myeclipse = eclipses[(eclipses['Year'] == 2017)]"
   ]
  },
  {
   "cell_type": "code",
   "execution_count": null,
   "metadata": {},
   "outputs": [],
   "source": [
    "# Let's plot it \n",
    "ax = world.plot(color='lightgrey', linewidth=0.5, edgecolor='white', figsize=(15,5))\n",
    "myeclipse.plot(ax=ax)\n",
    "cities.plot(marker='*', color='yellow', markersize=5, ax=ax)\n",
    "ax.axis('off')"
   ]
  },
  {
   "cell_type": "code",
   "execution_count": null,
   "metadata": {},
   "outputs": [],
   "source": [
    "# But I want to zoom in on my chosen eclipse path\n",
    "ax = world.plot(color='lightgrey', linewidth=0.5, edgecolor='white', figsize=(15,5))\n",
    "myeclipse.plot(ax=ax)\n",
    "cities.plot(marker='*', color='yellow', markersize=5, ax=ax)\n",
    "bounds = myeclipse.geometry.bounds\n",
    "\n",
    "# To do this, you set the bounds to the min/max x/y of your layer\n",
    "plt.xlim([bounds.minx.min()-5, bounds.maxx.max()+5])\n",
    "plt.ylim([bounds.miny.min()-5, bounds.maxy.max()+5])"
   ]
  },
  {
   "cell_type": "code",
   "execution_count": null,
   "metadata": {},
   "outputs": [],
   "source": [
    "# Let's style the plot so that the eclipse looks eclipse-ier\n",
    "ax = world.plot(color='lightgrey', linewidth=0.5, edgecolor='white', figsize=(15,5))\n",
    "myeclipse.plot(ax=ax, color='yellow', edgecolor='black', alpha=0.5)\n",
    "cities.plot(marker='*', color='blue', markersize=5, ax=ax)\n",
    "bounds = myeclipse.geometry.bounds\n",
    "plt.xlim([bounds.minx.min()-5, bounds.maxx.max()+5])\n",
    "plt.ylim([bounds.miny.min()-5, bounds.maxy.max()+5])"
   ]
  },
  {
   "cell_type": "code",
   "execution_count": null,
   "metadata": {},
   "outputs": [],
   "source": [
    "# Check that the crs are the same for myeclipse and cities\n",
    "print('data is in the same crs:', myeclipse.crs == cities.crs, ':', myeclipse.crs)"
   ]
  },
  {
   "cell_type": "code",
   "execution_count": null,
   "metadata": {},
   "outputs": [],
   "source": [
    "# We can see that there are a few cities that intersect my path! But we want to know which ones.\n",
    "# Do a spatial join to get the intersection\n",
    "from geopandas.tools import sjoin\n",
    "ecities = gpd.sjoin(cities, myeclipse, how='inner', op='intersects')\n",
    "ecities.head()"
   ]
  },
  {
   "cell_type": "code",
   "execution_count": null,
   "metadata": {},
   "outputs": [],
   "source": [
    "# Let's plot the results!\n",
    "ax = world.plot(color='lightgrey', linewidth=0.5, edgecolor='white', figsize=(15,5))\n",
    "myeclipse.plot(ax=ax, color='yellow', edgecolor='black', alpha=0.5)\n",
    "ecities.plot(marker='*', color='black', markersize=5, ax=ax)\n",
    "bounds = myeclipse.geometry.bounds\n",
    "plt.xlim([bounds.minx.min()-5, bounds.maxx.max()+5])\n",
    "plt.ylim([bounds.miny.min()-5, bounds.maxy.max()+5])"
   ]
  },
  {
   "cell_type": "code",
   "execution_count": null,
   "metadata": {},
   "outputs": [],
   "source": [
    "ecities.head()"
   ]
  },
  {
   "cell_type": "code",
   "execution_count": null,
   "metadata": {},
   "outputs": [],
   "source": [
    "# Check the crs if ecities\n",
    "ecities.crs"
   ]
  },
  {
   "cell_type": "markdown",
   "metadata": {},
   "source": [
    "# Make it slippy"
   ]
  },
  {
   "cell_type": "code",
   "execution_count": null,
   "metadata": {},
   "outputs": [],
   "source": [
    "import folium"
   ]
  },
  {
   "cell_type": "code",
   "execution_count": null,
   "metadata": {},
   "outputs": [],
   "source": [
    "# Let's find the centroid of the eclipse we chose, so that we can center our folum map on it\n",
    "x = myeclipse.centroid.x.values[0]\n",
    "y = myeclipse.centroid.y.values[0]\n",
    "print('y: ' + str(y) + ', x: ' + str(x))\n",
    "\n",
    "# Note: results will vary depending on the eclipse you chose"
   ]
  },
  {
   "cell_type": "markdown",
   "metadata": {},
   "source": [
    "Let's choose a basemap! There are many options, [check them out](https://deparkes.co.uk/2016/06/10/folium-map-tiles/)."
   ]
  },
  {
   "cell_type": "code",
   "execution_count": null,
   "metadata": {},
   "outputs": [],
   "source": [
    "# Note: no matter what projection you were in before, the folium maps will be in Web Mercator\n",
    "map_osm = folium.Map(location=[y, x], zoom_start=3)\n",
    "map_osm"
   ]
  },
  {
   "cell_type": "code",
   "execution_count": null,
   "metadata": {},
   "outputs": [],
   "source": [
    "map_carto = folium.Map(\n",
    "    location=[y, x],\n",
    "    tiles='Cartodb Positron',\n",
    "    zoom_start=3\n",
    ")\n",
    "map_carto"
   ]
  },
  {
   "cell_type": "code",
   "execution_count": null,
   "metadata": {},
   "outputs": [],
   "source": [
    "map_stamen = folium.Map(\n",
    "    location=[y, x],\n",
    "    tiles='stamenwatercolor',\n",
    "    zoom_start=3\n",
    ")\n",
    "map_stamen"
   ]
  },
  {
   "cell_type": "code",
   "execution_count": null,
   "metadata": {},
   "outputs": [],
   "source": [
    "folium.GeoJson(ecities,name='Eclipse Cities').add_to(map_stamen)\n",
    "folium.GeoJson(myeclipse,name='Eclipse Path').add_to(map_stamen)\n",
    "\n",
    "# Add a layer control if you like\n",
    "#folium.LayerControl().add_to(map_stamen)\n",
    "\n",
    "map_stamen"
   ]
  },
  {
   "cell_type": "code",
   "execution_count": null,
   "metadata": {},
   "outputs": [],
   "source": [
    "# Saving your results as a Esri Shapefile is easy with GeoPandas\n",
    "myeclipse.to_file('../Data/myeclipse.shp', driver='ESRI Shapefile')\n",
    "ecities.to_file('../Data/ecities.shp', driver='ESRI Shapefile')"
   ]
  }
 ],
 "metadata": {
  "kernelspec": {
   "display_name": "Python 3",
   "language": "python",
   "name": "python3"
  },
  "language_info": {
   "codemirror_mode": {
    "name": "ipython",
    "version": 3
   },
   "file_extension": ".py",
   "mimetype": "text/x-python",
   "name": "python",
   "nbconvert_exporter": "python",
   "pygments_lexer": "ipython3",
   "version": "3.6.5"
  }
 },
 "nbformat": 4,
 "nbformat_minor": 2
}
